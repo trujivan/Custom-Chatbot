{
 "cells": [
  {
   "cell_type": "markdown",
   "id": "0b7dcfba",
   "metadata": {},
   "source": [
    "##### Vanessa Trujillo\n",
    "###### Submission date 3/21/24\n",
    "###### Udacity Generative AI Nanodegree project: Build Your Own Custom Chatbot"
   ]
  },
  {
   "cell_type": "markdown",
   "id": "124e5672",
   "metadata": {},
   "source": [
    "# Custom Chatbot Project"
   ]
  },
  {
   "cell_type": "markdown",
   "id": "2a4a94b3",
   "metadata": {},
   "source": [
    "TODO: In this cell, write an explanation of which dataset you have chosen and why it is appropriate for this task\n",
    "\n",
    "**Explanation:**\n",
    "Wikipedia stands out as a goldmine of information ripe for crafting your own custom chatbot. Boasting an extensive range of topics, from historical events to pop culture trivia, it offers an abundance of content to extract and utilize. Whether you're exploring the intricacies of scientific advancements or simply curious about the latest trends, Wikipedia provides a rich resource to explore. Leveraging this diverse wealth of knowledge, you can develop chatbots capable of delivering engaging and informative responses to an array of inquiries. It's akin to having a virtual encyclopedia at your disposal, ready to engage in lively conversations on a wide spectrum of subjects!\n",
    "\n",
    "I made my custom chatbot dynamic to support nearly any topic you can directly look up on Wikipedia! :)\n",
    "\n",
    "I have hardcoded my 2 questions about the **Moon**, ***please use this as your initial search.*** Although any topic may be searched."
   ]
  },
  {
   "cell_type": "markdown",
   "id": "a63d4c5f",
   "metadata": {},
   "source": [
    "## Data Wrangling\n",
    "\n",
    "TODO: In the cells below, load your chosen dataset into a `pandas` dataframe with a column named `\"text\"`. This column should contain all of your text data, separated into at least 20 rows."
   ]
  },
  {
   "cell_type": "code",
   "execution_count": null,
   "id": "c69b83a1",
   "metadata": {},
   "outputs": [],
   "source": [
    "# Dependecies, OpenAI dependencies included in requirements.txt \n",
    "import requests\n",
    "import string\n",
    "from bs4 import BeautifulSoup\n",
    "import pandas as pd\n",
    "from pathlib import Path \n",
    "from openai import OpenAI\n",
    "from typing import List, Union\n",
    "from scipy.spatial.distance import cosine"
   ]
  },
  {
   "cell_type": "code",
   "execution_count": null,
   "id": "363ec79c",
   "metadata": {},
   "outputs": [],
   "source": [
    "# Define file paths\n",
    "CSV_FILEPATH_WITH_EMBEDDINGS = 'details_with_embeddings.csv'\n",
    "\n",
    "# OpenAI API Key\n",
    "OPENAI_API_KEY = 'YOUR API KEY'\n",
    "client = OpenAI(api_key=OPENAI_API_KEY)\n",
    "\n",
    "# OpenAI Models\n",
    "EMBEDDING_MODEL = 'text-embedding-3-small'\n",
    "COMPLETION_MODEL = 'gpt-3.5-turbo'"
   ]
  },
  {
   "cell_type": "code",
   "execution_count": null,
   "id": "0a595980",
   "metadata": {},
   "outputs": [],
   "source": [
    "# Wikipedia scraping function, Attributed to the Udacity course code & Wikipedia\n",
    "def fetch_wikipedia_page(url: str) -> str:\n",
    "    headers = {'user-agent': 'Mozilla/5.0 (Macintosh; Intel Mac OS X 10_15_7) AppleWebKit/537.36 (KHTML, like Gecko) Chrome/112.0.0.0 Safari/537.36'}\n",
    "    r = requests.get(url, headers=headers)\n",
    "    if r.status_code == 200:\n",
    "        return r.text\n",
    "    else:\n",
    "        print(r.status_code)\n",
    "        return \"\"\n",
    "\n",
    "def wikiscrape(url):\n",
    "    url_open = requests.get(url)\n",
    "    soup = BeautifulSoup(url_open.content, 'html.parser')\n",
    "    details = soup('table', {'class': 'infobox'})\n",
    "    for i in details:\n",
    "        h = i.find_all('tr')\n",
    "        for j in h:\n",
    "            heading = j.find_all('th')\n",
    "            details = j.find_all('td')\n",
    "            if heading is not None and details is not None:\n",
    "                for x, y in zip(heading, details):\n",
    "                    print(\"{}  ::  {}\".format(x.text, y.text))\n",
    "                    print(\"~~~~~~~~~~~~~~~~~~~~~~\")\n",
    "\n",
    "    # Iterate over available <p> tags\n",
    "    paragraphs = soup('p')\n",
    "    for i in range(min(len(paragraphs), 99)):  # Limit to a maximum of 99 paragraphs\n",
    "        print(paragraphs[i].text)\n",
    "\n",
    "    # Save the Wikiscrape results as an HTML file\n",
    "    with open(\"wikiscrape_results.html\", \"w\", encoding=\"utf-8\") as file:\n",
    "        file.write(str(soup))"
   ]
  },
  {
   "cell_type": "code",
   "execution_count": null,
   "id": "acb3a9fd",
   "metadata": {},
   "outputs": [],
   "source": [
    "# Function to extract text data from HTML content, Attributed to the Udacity course code\n",
    "def extract_text_data(html_content: str) -> pd.DataFrame:\n",
    "    soup = BeautifulSoup(html_content, 'html.parser')\n",
    "    paragraphs = soup.find_all('p')\n",
    "\n",
    "    data = []\n",
    "    for paragraph in paragraphs:\n",
    "        text_sample = paragraph.text.strip()\n",
    "        if text_sample:\n",
    "            data.append({\"text\": text_sample})\n",
    "\n",
    "    # If there are less than 20 samples, duplicate them to reach 20 rows\n",
    "    while len(data) < 20:\n",
    "        data += data\n",
    "\n",
    "    # Create a DataFrame with at least 20 rows\n",
    "    df = pd.DataFrame(data[:20])\n",
    "\n",
    "    return df\n",
    "\n",
    "# Function to save HTML content to a file\n",
    "def save_to_html(html_content: str, filepath: str):\n",
    "    with open(filepath, \"w\", encoding=\"utf-8\") as file:\n",
    "        file.write(html_content)"
   ]
  },
  {
   "cell_type": "code",
   "execution_count": null,
   "id": "09eb50f2",
   "metadata": {},
   "outputs": [],
   "source": [
    "# Prompt the user for search input\n",
    "search_input = input(\"Search: \")\n",
    "search_query = string.capwords(search_input)\n",
    "search_words = search_query.split()\n",
    "search_term = \"_\".join(search_words)\n",
    "\n",
    "# Construct Wikipedia URL\n",
    "url = \"https://en.wikipedia.org/wiki/\" + search_term\n",
    "\n",
    "# Fetch page content\n",
    "page_content = fetch_wikipedia_page(url)\n",
    "\n",
    "# Save the Wikiscrape results as an HTML file\n",
    "html_file_path = \"wikiscrape_results.html\"\n",
    "save_to_html(page_content, html_file_path)\n",
    "\n",
    "# Extract data from HTML\n",
    "result_df = extract_text_data(page_content)"
   ]
  },
  {
   "cell_type": "code",
   "execution_count": null,
   "id": "a2c0e7ca",
   "metadata": {},
   "outputs": [],
   "source": [
    "# Reviewing data collected\n",
    "print(wikiscrape(url))"
   ]
  },
  {
   "cell_type": "code",
   "execution_count": null,
   "id": "307e4f61",
   "metadata": {},
   "outputs": [],
   "source": [
    "# Reset display options for pandas DataFrame\n",
    "pd.reset_option('display.max_colwidth')\n",
    "pd.reset_option('display.max_rows')\n",
    "\n",
    "df = pd.DataFrame(result_df, columns=['text'])\n",
    "df"
   ]
  },
  {
   "cell_type": "markdown",
   "id": "ae769871",
   "metadata": {},
   "source": [
    "## Custom Query Completion\n",
    "\n",
    "TODO: In the cells below, compose a custom query using your chosen dataset and retrieve results from an OpenAI `Completion` model. You may copy and paste any useful code from the course materials."
   ]
  },
  {
   "cell_type": "code",
   "execution_count": null,
   "id": "582f0656",
   "metadata": {},
   "outputs": [],
   "source": [
    "# Function to get embeddings\n",
    "def get_embeddings(prompt: Union[str, List[str]], embedding_model: str) -> List[List[float]]:\n",
    "    response = client.embeddings.create(\n",
    "            input=prompt if type(prompt) is list else [prompt],\n",
    "            model=embedding_model\n",
    "    )\n",
    "    return [row.embedding for row in response.data]\n",
    "\n",
    "# Function to create embeddings\n",
    "def create_embeddings(df, embedding_model_name: str = EMBEDDING_MODEL, batch_size: int = 25) -> List[List[float]]:\n",
    "    output = []\n",
    "    for idx in range(0, len(df), BATCH_SIZE):\n",
    "        batch = df.iloc[idx:idx+BATCH_SIZE].tolist()\n",
    "        embeddings = get_embeddings(batch, embedding_model_name)\n",
    "        output.extend(embeddings)\n",
    "\n",
    "    return output"
   ]
  },
  {
   "cell_type": "code",
   "execution_count": null,
   "id": "8b6e1f75",
   "metadata": {},
   "outputs": [],
   "source": [
    "BATCH_SIZE = 50\n",
    "\n",
    "# Load DataFrame with text data\n",
    "df = pd.DataFrame(result_df, columns=['text'])\n",
    "\n",
    "# Create embeddings for text data\n",
    "df['embedding'] = create_embeddings(df['text'])\n",
    "\n",
    "# Save DataFrame to CSV with embeddings\n",
    "df.to_csv(CSV_FILEPATH_WITH_EMBEDDINGS, sep=',', index=False)"
   ]
  },
  {
   "cell_type": "code",
   "execution_count": null,
   "id": "13f2dcd7",
   "metadata": {},
   "outputs": [],
   "source": [
    "# Reset display options for pandas DataFrame\n",
    "pd.reset_option('display.max_colwidth')\n",
    "pd.reset_option('display.max_rows')"
   ]
  },
  {
   "cell_type": "code",
   "execution_count": null,
   "id": "c403f543",
   "metadata": {},
   "outputs": [],
   "source": [
    "# Function to build basic prompt\n",
    "def build_basic_prompt(question: str):\n",
    "    return [\n",
    "        {\n",
    "            'role': 'user',\n",
    "            'content': question\n",
    "        }\n",
    "    ]\n",
    "\n",
    "# Function to build custom prompt\n",
    "def build_custom_prompt(question: str, database_df):\n",
    "    return [\n",
    "        {\n",
    "            'role': 'system',\n",
    "            'content': \"\"\"\n",
    "            Context: \n",
    "                {}\n",
    "            \"\"\".format('\\n\\n'.join(build_custom_context(question, database_df)))\n",
    "        },\n",
    "        {\n",
    "            'role': 'user',\n",
    "            'content': question\n",
    "        }\n",
    "    ]"
   ]
  },
  {
   "cell_type": "code",
   "execution_count": null,
   "id": "74280b92",
   "metadata": {},
   "outputs": [],
   "source": [
    "# Function to build custom context\n",
    "def build_custom_context(question: str, database_df: df, n: int = 5):\n",
    "    question_embedding = get_embeddings(question, EMBEDDING_MODEL)[0]\n",
    "    \n",
    "    df = database_df.copy()\n",
    "    df[\"distances\"] = df['embedding'].apply(lambda embedding: cosine(embedding, question_embedding))\n",
    "\n",
    "    df.sort_values(\"distances\", ascending=True, inplace=True)\n",
    "    return df.iloc[:n]['text'].tolist()\n",
    "\n",
    "# Function to handle question\n",
    "def handle_question(prompt, model_name: str = COMPLETION_MODEL):\n",
    "    response = client.chat.completions.create(\n",
    "        model=model_name,\n",
    "        messages=prompt,\n",
    "        max_tokens=100\n",
    "    )\n",
    "    return response.choices[0].message.content"
   ]
  },
  {
   "cell_type": "markdown",
   "id": "1783f146",
   "metadata": {},
   "source": [
    "## Custom Performance Demonstration\n",
    "\n",
    "TODO: In the cells below, demonstrate the performance of your custom query using at least 2 questions. For each question, show the answer from a basic `Completion` model query as well as the answer from your custom query."
   ]
  },
  {
   "cell_type": "markdown",
   "id": "4f11fdc0",
   "metadata": {},
   "source": [
    "### Question 1"
   ]
  },
  {
   "cell_type": "code",
   "execution_count": null,
   "id": "4901c850",
   "metadata": {},
   "outputs": [],
   "source": [
    "question = 'How old is the Moon?'\n",
    "print('Basic Completion Model Answer:', handle_question(build_basic_prompt(question)))\n"
   ]
  },
  {
   "cell_type": "code",
   "execution_count": null,
   "id": "bd7a093b",
   "metadata": {},
   "outputs": [],
   "source": [
    "print('Custom Query Answer:', handle_question(build_custom_prompt(question, df)))"
   ]
  },
  {
   "cell_type": "markdown",
   "id": "6e86e37c",
   "metadata": {},
   "source": [
    "### Question 2"
   ]
  },
  {
   "cell_type": "code",
   "execution_count": null,
   "id": "6f646989",
   "metadata": {},
   "outputs": [],
   "source": [
    "question = 'What are the cycles of the Moon?'\n",
    "print('Basic Completion Model Answer:', handle_question(build_basic_prompt(question)))"
   ]
  },
  {
   "cell_type": "code",
   "execution_count": null,
   "id": "11c07a54",
   "metadata": {},
   "outputs": [],
   "source": [
    "print('Custom Query Answer:', handle_question(build_custom_prompt(question, df)))"
   ]
  },
  {
   "cell_type": "markdown",
   "id": "8a24a7b7",
   "metadata": {},
   "source": [
    "### Additional Questions, Dynamic Prompting "
   ]
  },
  {
   "cell_type": "code",
   "execution_count": null,
   "id": "7a36bb99",
   "metadata": {
    "scrolled": true
   },
   "outputs": [],
   "source": [
    "# Loop for asking questions\n",
    "while True:\n",
    "    # Prompt the user for a question\n",
    "    user_question = input(\"Ask a question: \")\n",
    "\n",
    "    # Get context for the user's question\n",
    "    context = build_custom_context(user_question, df)\n",
    "\n",
    "    if not context:\n",
    "        print(\"I'm sorry, I don't have enough information to answer that question.\")\n",
    "    else:\n",
    "        # Call the function to handle the user's question\n",
    "        print('Basic Completion Model Answer:', handle_question(build_basic_prompt(user_question)))\n",
    "        print('Custom Query Answer:', handle_question(build_custom_prompt(user_question, df)))\n",
    "\n",
    "    # Ask if the user wants to ask another question\n",
    "    additional_question = input(\"Would you like to ask another question? (yes/no): \")\n",
    "    if additional_question.lower() == 'no':\n",
    "        print(\"Thank you for your inquiries!\")\n",
    "        break  # Break out of the loop only if the user says \"no\" to additional questions"
   ]
  },
  {
   "cell_type": "code",
   "execution_count": null,
   "id": "9ea8c58d",
   "metadata": {},
   "outputs": [],
   "source": []
  },
  {
   "cell_type": "code",
   "execution_count": null,
   "id": "8a09860a",
   "metadata": {},
   "outputs": [],
   "source": []
  }
 ],
 "metadata": {
  "kernelspec": {
   "display_name": "Python 3 (ipykernel)",
   "language": "python",
   "name": "python3"
  },
  "language_info": {
   "codemirror_mode": {
    "name": "ipython",
    "version": 3
   },
   "file_extension": ".py",
   "mimetype": "text/x-python",
   "name": "python",
   "nbconvert_exporter": "python",
   "pygments_lexer": "ipython3",
   "version": "3.11.5"
  }
 },
 "nbformat": 4,
 "nbformat_minor": 5
}
